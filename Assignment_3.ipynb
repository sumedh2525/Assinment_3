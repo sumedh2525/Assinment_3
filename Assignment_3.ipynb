{
 "cells": [
  {
   "cell_type": "code",
   "execution_count": 4,
   "id": "31f57ace-ce29-495b-9913-c3a218d37ff3",
   "metadata": {},
   "outputs": [
    {
     "name": "stdout",
     "output_type": "stream",
     "text": [
      "[('Virat Kohli', 24936), ('Jack Kallis', 25534), ('Ricky Ponting', 27483), ('Sachin Tendulkar', 34357)]\n"
     ]
    }
   ],
   "source": [
    "#  Q1. Create a python program to sort the given list of tuples based on integer value using a\n",
    "#  lambda function. \n",
    "#  \n",
    "#  \n",
    "#  [('Sachin Tendulkar', 34357), ('Ricky Ponting', 27483), ('Jack Kallis', 25534), ('Virat Kohli', 24936)]\n",
    "\n",
    "\n",
    "tup = [('Sachin Tendulkar', 34357), ('Ricky Ponting', 27483), ('Jack Kallis', 25534), ('Virat Kohli', 24936)]\n",
    "def sort_tup(tup):\n",
    "    tup.sort(key = lambda x: x[1])\n",
    "    return tup\n",
    "print(sort_tuple(tup))\n",
    "             "
   ]
  },
  {
   "cell_type": "code",
   "execution_count": 1,
   "id": "bc356e9b-bdbe-48b5-b3d1-a7c205ee01a6",
   "metadata": {},
   "outputs": [
    {
     "name": "stdout",
     "output_type": "stream",
     "text": [
      "[1, 4, 9, 16, 25, 36, 49, 64, 81, 100]\n"
     ]
    }
   ],
   "source": [
    "#  Q2. Write a Python Program to find the squares of all the numbers in the given list of integers using\n",
    "#  lambda and map functions.\n",
    "# \n",
    "lst = [1, 2, 3, 4, 5, 6, 7, 8, 9, 10]\n",
    "\n",
    "lst1 = list(map(lambda x : x**2 , lst))\n",
    "\n",
    "print(lst1)\n",
    "\n",
    "\n",
    "    "
   ]
  },
  {
   "cell_type": "code",
   "execution_count": 8,
   "id": "6a8a751b-24d6-485b-94a4-7fa4787fcfb7",
   "metadata": {},
   "outputs": [
    {
     "name": "stdout",
     "output_type": "stream",
     "text": [
      "('1', '2', '3', '4', '5', '6', '7', '8', '9', '10')\n"
     ]
    }
   ],
   "source": [
    "#  Q3. Write a python program to convert the given list of integers into a tuple of strings. Use map and\n",
    "#  lambda functions\n",
    "#  Given String: [1, 2, 3, 4, 5, 6, 7, 8, 9, 10]\n",
    "#  Expected output: ('1', '2', '3', '4', '5', '6', '7', '8', '9', '10')\n",
    "\n",
    "lst = [1, 2, 3, 4, 5, 6, 7, 8, 9, 10]\n",
    "\n",
    "z = tuple(map(str ,lst))\n",
    "print(z)"
   ]
  },
  {
   "cell_type": "code",
   "execution_count": 11,
   "id": "59302da1-62be-481b-9b09-59f362285785",
   "metadata": {},
   "outputs": [
    {
     "name": "stdout",
     "output_type": "stream",
     "text": [
      "1\n",
      "2\n",
      "3\n",
      "4\n",
      "5\n",
      "6\n",
      "7\n",
      "8\n",
      "9\n",
      "10\n",
      "11\n",
      "12\n",
      "13\n",
      "14\n",
      "15\n",
      "16\n",
      "17\n",
      "18\n",
      "19\n",
      "20\n",
      "21\n",
      "22\n",
      "23\n",
      "24\n"
     ]
    }
   ],
   "source": [
    "#  Q4.  Write a python program using reduce function to compute the product of a list containing numbers\n",
    "#  from 1 to 25.\n",
    "\n",
    "for i in range(1,25):\n",
    "    print(i)\n",
    "    \n",
    "num = \n",
    "    \n"
   ]
  },
  {
   "cell_type": "code",
   "execution_count": null,
   "id": "cdebee65-b4c6-46dd-8618-0aea55b1063c",
   "metadata": {},
   "outputs": [],
   "source": [
    "# Q.5  Write a python program to filter the numbers in a given list that are divisible by 2 and 3 using the\n",
    "#  filter function.\n",
    "\n",
    "\n",
    "   [2, 3, 6, 9, 27, 60, 90, 120, 55, 46] \n",
    "    \n",
    "    fun = filter(lambda "
   ]
  },
  {
   "cell_type": "code",
   "execution_count": 1,
   "id": "5adff698-d0c5-4d0e-b4ec-11000e6980b5",
   "metadata": {},
   "outputs": [
    {
     "name": "stdout",
     "output_type": "stream",
     "text": [
      "['php', 'aba', 'radar', 'level']\n"
     ]
    }
   ],
   "source": [
    "#  Q6. Write a python program to find palindromes in the given list of strings using lambda and filter\n",
    "#  function.\n",
    "#  ['python', 'php', 'aba', 'radar', 'level']\n",
    "\n",
    "# sol:- \n",
    "\n",
    "lst = ['python', 'php', 'aba', 'radar', 'level']\n",
    "\n",
    "result = list(filter(lambda x: (x == \"\" .join(reversed(x))), lst))\n",
    " \n",
    "print(result)\n",
    "                     \n",
    "                     "
   ]
  },
  {
   "cell_type": "code",
   "execution_count": null,
   "id": "cd07e6dc-de89-41d5-9db6-2b1c124707ce",
   "metadata": {},
   "outputs": [],
   "source": []
  }
 ],
 "metadata": {
  "kernelspec": {
   "display_name": "Python 3 (ipykernel)",
   "language": "python",
   "name": "python3"
  },
  "language_info": {
   "codemirror_mode": {
    "name": "ipython",
    "version": 3
   },
   "file_extension": ".py",
   "mimetype": "text/x-python",
   "name": "python",
   "nbconvert_exporter": "python",
   "pygments_lexer": "ipython3",
   "version": "3.10.8"
  }
 },
 "nbformat": 4,
 "nbformat_minor": 5
}
